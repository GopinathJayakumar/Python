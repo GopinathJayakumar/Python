{
 "cells": [
  {
   "cell_type": "code",
   "execution_count": null,
   "metadata": {},
   "outputs": [],
   "source": [
    "import sqlite3\n",
    "\n",
    "# ================================================================================\n",
    "\n",
    "con = sqlite3.connect('leaftaps.db')\n",
    "print('DataBase Opened')\n",
    "# ================================================================================\n",
    "\n",
    "con.execute('''CREATE TABLE IF NOT EXISTS leaf_db(\n",
    "NAME TEXT NOT NULL,\n",
    "USERNAME TEXT NOT NULL,\n",
    "EMAIL TEXT NOT NULL,\n",
    "PASSWORD TEXT NOT NULL)''')\n",
    "print('Table created')\n",
    "# ================================================================================\n",
    "\n",
    "con.execute('''INSERT INTO leaf_db(NAME, USERNAME, EMAIL, PASSWORD) \n",
    "            VALUES('Gopinath', 'J', 'gopinath.jayakumar@testleaf.com', 'testleaf')''')\n",
    "con.commit()\n",
    "print('Record inserted')\n",
    "# ================================================================================\n",
    "\n",
    "data = con.execute('''SELECT * FROM leaf_db''')\n",
    "for i in data:\n",
    "    print(i)\n",
    "print('Read the Data')\n",
    "# ================================================================================\n",
    "\n",
    "con.execute(''' UPDATE leaf_db set NAME = 'Gopi' WHERE NAME='Sarath' ''')\n",
    "con.commit()\n",
    "print('Updated')\n",
    "# ================================================================================\n",
    "\n",
    "con.execute(''' DELETE from leaf_db WHERE NAME = 'Gopi' ''')\n",
    "con.commit()\n",
    "print('Deleted')\n",
    "# ================================================================================\n",
    "\n",
    "con.close()\n",
    "print('DataBase closed')\n"
   ]
  }
 ],
 "metadata": {
  "kernelspec": {
   "display_name": "Python 3",
   "language": "python",
   "name": "python3"
  },
  "language_info": {
   "codemirror_mode": {
    "name": "ipython",
    "version": 3
   },
   "file_extension": ".py",
   "mimetype": "text/x-python",
   "name": "python",
   "nbconvert_exporter": "python",
   "pygments_lexer": "ipython3",
   "version": "3.7.1"
  }
 },
 "nbformat": 4,
 "nbformat_minor": 2
}
